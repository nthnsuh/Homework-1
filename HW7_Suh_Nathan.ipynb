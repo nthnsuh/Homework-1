{
  "nbformat": 4,
  "nbformat_minor": 0,
  "metadata": {
    "colab": {
      "name": "HW7_Suh_Nathan.ipynb",
      "provenance": [],
      "collapsed_sections": [
        "7DvQpJcMXRd0",
        "UDtpJLrCXdj-",
        "uaUqMhEPYqSF",
        "TC9xxX-MaJiJ"
      ],
      "include_colab_link": true
    },
    "kernelspec": {
      "name": "python3",
      "display_name": "Python 3"
    },
    "language_info": {
      "name": "python"
    }
  },
  "cells": [
    {
      "cell_type": "markdown",
      "metadata": {
        "id": "view-in-github",
        "colab_type": "text"
      },
      "source": [
        "<a href=\"https://colab.research.google.com/github/nthnsuh/Homework-1/blob/main/HW7_Suh_Nathan.ipynb\" target=\"_parent\"><img src=\"https://colab.research.google.com/assets/colab-badge.svg\" alt=\"Open In Colab\"/></a>"
      ]
    },
    {
      "cell_type": "markdown",
      "metadata": {
        "id": "YEBNn7WNVVH9"
      },
      "source": [
        "# Homework 7 (30 marks)\n",
        "Create a copy of the notebook to start answering the questions. Name your notebook in the format HW7_lastname_firstname.ipynb to facilitate the grading process.\n",
        "\n",
        "Answer all the questions, test your code to ensure there are no errors and the results are as expected. Once you have answered all the questions, save the final copy, then go to File-> click on Download.ipynb. Once the local copy has been downloaded, submit your file on Blackboard under the corresponding assignment section. Also provide us a link to your notebook during submission.\n",
        "\n",
        "NOTE: Please give the TAs the permission to access your notebooks through the links you have provided during submission.\n",
        "\n",
        "The due date of this homework is 04/23/2021 (Friday).\n",
        "\n",
        "Please ensure you follow all the steps mentioned in the homework.\n",
        "\n",
        "You can submit your solutions any number of times until the deadline.\n",
        "\n",
        "The datasets used in this homework can be found in the google drive link below -\n",
        "\n",
        "https://drive.google.com/drive/folders/1NxCh4X7u7wVo5aHojxjLNs9wC7B7zJhb?usp=sharing\n",
        "\n",
        "Follow the necessary steps to import data to test your code. You can use any method to read your data in the notebook. We will not be grading the methods you use. We will only grade the code from the point where you read the dataset into a pandas dataframe - (pd.read_csv('file_name'))"
      ]
    },
    {
      "cell_type": "markdown",
      "metadata": {
        "id": "XNkmD9GdVx37"
      },
      "source": [
        "Import all the libraries you require in the cell below.\n"
      ]
    },
    {
      "cell_type": "code",
      "metadata": {
        "id": "O38dWgFrTt9g"
      },
      "source": [
        "import pandas as pd\n",
        "import numpy as np\n",
        "from sklearn.impute import SimpleImputer\n",
        "from sklearn.preprocessing import MinMaxScaler\n",
        "from sklearn.model_selection import train_test_split\n",
        "\n",
        "# Enter your code here\n",
        "from sklearn.ensemble import VotingClassifier\n",
        "from sklearn.ensemble import RandomForestClassifier\n",
        "from sklearn.linear_model import LogisticRegression\n",
        "from sklearn.svm import SVC\n",
        "from sklearn.dummy import DummyClassifier\n",
        "from sklearn.ensemble import BaggingClassifier\n",
        "from sklearn.metrics import accuracy_score\n",
        "from sklearn.ensemble import AdaBoostClassifier\n",
        "from sklearn.tree import DecisionTreeClassifier"
      ],
      "execution_count": null,
      "outputs": []
    },
    {
      "cell_type": "markdown",
      "metadata": {
        "id": "HggTkCZoWOSE"
      },
      "source": [
        "## Implement the Ensemble methods learnt in class and compare their accuarcies."
      ]
    },
    {
      "cell_type": "markdown",
      "metadata": {
        "id": "g-eAjVVDV_Nm"
      },
      "source": [
        "The dataset you are going to be using for homework is the **Wisconsin Breast Cancer dataset (cancer.csv)**\n",
        "\n",
        "The dataset contains a total number of 10 features labeled in either benign or malignant classes. The features have 699 instances out of which 16 feature values are missing. The dataset only contains numeric values.\n",
        "\n",
        "Attribute Information:\n",
        "\n",
        "1. Sample code number: id number\n",
        "2. Clump Thickness: 1 - 10\n",
        "3. Uniformity of Cell Size: 1 - 10\n",
        "4. Uniformity of Cell Shape: 1 - 10\n",
        "5. Marginal Adhesion: 1 - 10\n",
        "6. Single Epithelial Cell Size: 1 - 10\n",
        "7. Bare Nuclei: 1 - 10\n",
        "8. Bland Chromatin: 1 - 10\n",
        "9. Normal Nucleoli: 1 - 10\n",
        "10. Mitoses: 1 - 10\n",
        "11. Class: (2 for benign, 4 for malignant) (**target variable**)\n",
        "\n",
        "For more information: https://archive.ics.uci.edu/ml/datasets/breast+cancer+wisconsin+(original)"
      ]
    },
    {
      "cell_type": "markdown",
      "metadata": {
        "id": "g3iLZY-gXhVH"
      },
      "source": [
        "### 1. Read the dataset into variable called '**data**' (1 mark)"
      ]
    },
    {
      "cell_type": "code",
      "metadata": {
        "id": "U2II5L3AXn2A"
      },
      "source": [
        "pd.set_option('display.max_columns', 100)\n",
        "# Enter your code here\n",
        "data = pd.read_csv(\"cancer.csv\")"
      ],
      "execution_count": null,
      "outputs": []
    },
    {
      "cell_type": "markdown",
      "metadata": {
        "id": "7DvQpJcMXRd0"
      },
      "source": [
        "### **Preprocessing**: Data needs to be preprocessed before implementing ensemble methods. It is done for you here. \n",
        "### Run the below code first and then answer the questions from 2 - 7."
      ]
    },
    {
      "cell_type": "markdown",
      "metadata": {
        "id": "UDtpJLrCXdj-"
      },
      "source": [
        "#### Deleting unnecessary columns: The column \"Sample code number\" is just an indicator and it's of no use in the modeling. So, let's drop it:\n"
      ]
    },
    {
      "cell_type": "code",
      "metadata": {
        "id": "3bbOI9AYTziJ"
      },
      "source": [
        "data.drop(['Sample Code Number'],axis = 1, inplace = True)\n"
      ],
      "execution_count": null,
      "outputs": []
    },
    {
      "cell_type": "markdown",
      "metadata": {
        "id": "uaUqMhEPYqSF"
      },
      "source": [
        "#### Handling missing values : \n",
        "As mentioned earlier, the dataset contains missing values. The column named \"Bare Nuclei\" contains them. The missing values are represneted as \"?\". \n",
        "\n",
        "Replace those \"?\"s with 0's and impute them with Mean Imputation"
      ]
    },
    {
      "cell_type": "code",
      "metadata": {
        "id": "cHu_DIDcZs_8",
        "colab": {
          "base_uri": "https://localhost:8080/"
        },
        "outputId": "2913131f-7022-47c4-c710-1e64ed15d3e0"
      },
      "source": [
        "data['Bare Nuclei']"
      ],
      "execution_count": null,
      "outputs": [
        {
          "output_type": "execute_result",
          "data": {
            "text/plain": [
              "0       3\n",
              "1       3\n",
              "2       3\n",
              "3       3\n",
              "4       3\n",
              "       ..\n",
              "694     1\n",
              "695     1\n",
              "696     8\n",
              "697    10\n",
              "698    10\n",
              "Name: Bare Nuclei, Length: 699, dtype: int64"
            ]
          },
          "metadata": {
            "tags": []
          },
          "execution_count": 179
        }
      ]
    },
    {
      "cell_type": "code",
      "metadata": {
        "id": "u_5GSsVjU930"
      },
      "source": [
        "data.replace('?',0, inplace=True)"
      ],
      "execution_count": null,
      "outputs": []
    },
    {
      "cell_type": "code",
      "metadata": {
        "id": "LV3PVQB0U_mF"
      },
      "source": [
        "# Convert the DataFrame object into NumPy array otherwise you will not be able to impute\n",
        "values = data.values\n",
        "# Now impute it\n",
        "imputer = SimpleImputer(missing_values=np.nan, strategy='mean')\n",
        "imputedData = imputer.fit_transform(values)"
      ],
      "execution_count": null,
      "outputs": []
    },
    {
      "cell_type": "markdown",
      "metadata": {
        "id": "TC9xxX-MaJiJ"
      },
      "source": [
        "#### Normalizing the data:\n",
        "Ranges of the features of the dataset are not the same. This may cause a problem. A small change in a feature might not affect the other. To address this problem, normalize the ranges of the features to a uniform range, in this case, 0 - 1."
      ]
    },
    {
      "cell_type": "code",
      "metadata": {
        "id": "VomHojxET85c",
        "colab": {
          "base_uri": "https://localhost:8080/"
        },
        "outputId": "24ddb6c6-3daf-4191-f99a-a413308038be"
      },
      "source": [
        "scaler = MinMaxScaler(feature_range=(0, 1))\n",
        "normalizedData = scaler.fit_transform(imputedData)\n",
        "cols = ['Clump Thickness', 'Uniformity of Cell Size', 'Uniformity of Cell Shape', 'Marginal Adhesion', 'Single Epithelial Cell Size', 'Bland Chromatin', 'Bare Nuclei', 'Normal Nucleoli', 'Mitosis','Class']\n",
        "normalizedData = pd.DataFrame(normalizedData, columns=cols)\n",
        "print(normalizedData.head())"
      ],
      "execution_count": null,
      "outputs": [
        {
          "output_type": "stream",
          "text": [
            "   Clump Thickness  Uniformity of Cell Size  Uniformity of Cell Shape  \\\n",
            "0         0.444444                 0.000000                  0.000000   \n",
            "1         0.444444                 0.333333                  0.333333   \n",
            "2         0.222222                 0.000000                  0.000000   \n",
            "3         0.555556                 0.777778                  0.777778   \n",
            "4         0.333333                 0.000000                  0.000000   \n",
            "\n",
            "   Marginal Adhesion  Single Epithelial Cell Size  Bland Chromatin  \\\n",
            "0           0.000000                     0.111111              0.1   \n",
            "1           0.444444                     0.666667              1.0   \n",
            "2           0.000000                     0.111111              0.2   \n",
            "3           0.000000                     0.222222              0.4   \n",
            "4           0.222222                     0.111111              0.1   \n",
            "\n",
            "   Bare Nuclei  Normal Nucleoli  Mitosis  Class  \n",
            "0     0.222222         0.000000      0.0    0.0  \n",
            "1     0.222222         0.111111      0.0    0.0  \n",
            "2     0.222222         0.000000      0.0    0.0  \n",
            "3     0.222222         0.666667      0.0    0.0  \n",
            "4     0.222222         0.000000      0.0    0.0  \n"
          ],
          "name": "stdout"
        }
      ]
    },
    {
      "cell_type": "markdown",
      "metadata": {
        "id": "Sb2YjZckaZ2-"
      },
      "source": [
        "### Data preprocessing is done and now you will answer the below questions using the **normalizedData**: "
      ]
    },
    {
      "cell_type": "markdown",
      "metadata": {
        "id": "Cq2ChemrbDz2"
      },
      "source": [
        "### 2. Split the data into test and training data with test size - 30%. Compute the baseline classification accuracy for X_train. (3 marks)"
      ]
    },
    {
      "cell_type": "code",
      "metadata": {
        "id": "gOshE9K_UA5S",
        "colab": {
          "base_uri": "https://localhost:8080/"
        },
        "outputId": "6a332c1e-3ea9-496f-eb4d-ce7ffd4574e9"
      },
      "source": [
        "# Enter your code here\n",
        "X = data.iloc[:, 0:9]\n",
        "y = data[\"Class\"]\n",
        "X_train, X_test, y_train, y_test = train_test_split(X, y, test_size=0.3, random_state=42, stratify=y)\n",
        "dummy_classifier = DummyClassifier(strategy='most_frequent')\n",
        "dummy_classifier.fit(X_train,y_train)\n",
        "baseline_acc = dummy_classifier.score(X_test,y_test)\n",
        "print(\"Baseline Accuracy = \", baseline_acc)\n"
      ],
      "execution_count": null,
      "outputs": [
        {
          "output_type": "stream",
          "text": [
            "Baseline Accuracy =  0.6571428571428571\n"
          ],
          "name": "stdout"
        }
      ]
    },
    {
      "cell_type": "markdown",
      "metadata": {
        "id": "J3RUF9RvgA-N"
      },
      "source": [
        "### 3.  Bagging : Build a generic Bagging ensemble and print the accuracy (4 marks)\n",
        "---\n",
        "\n",
        "\n",
        "Hyperparameters:\n",
        "\n",
        "Base estimator = DecisionTreeClassifier\n",
        "\n",
        "n_estimators = 10\n",
        "\n",
        "random_state = 42\n",
        "\n",
        "---\n"
      ]
    },
    {
      "cell_type": "code",
      "metadata": {
        "id": "C78-znrIUDcs",
        "colab": {
          "base_uri": "https://localhost:8080/"
        },
        "outputId": "66f90b69-3f64-4f24-9d57-7631515aae83"
      },
      "source": [
        "# Generic Bagging model\n",
        "# Enter your code here\n",
        "\n",
        "def create_bootstrap_sample(df):\n",
        "    return df.sample(n= df.shape[0], replace = True)\n",
        "bootstrap_sample = create_bootstrap_sample(X_train)\n",
        "\n",
        "model_bagging = BaggingClassifier(n_estimators=10, random_state=42)\n",
        "model_bagging.fit(X_train, y_train)\n",
        "pred_bagging = model_bagging.predict(X_test)\n",
        "acc_bagging = accuracy_score(y_test, pred_bagging)\n",
        "\n",
        "print(' Accuracy = ', acc_bagging)"
      ],
      "execution_count": null,
      "outputs": [
        {
          "output_type": "stream",
          "text": [
            " Accuracy =  0.9571428571428572\n"
          ],
          "name": "stdout"
        }
      ]
    },
    {
      "cell_type": "markdown",
      "metadata": {
        "id": "mlupszlqg6El"
      },
      "source": [
        "### 4. RandomForest : (7 marks)\n",
        "#### a) Build a Random Forest model and print the accuracy (4 marks)\n",
        "---\n",
        "\n",
        "Constructor arguments: \n",
        "\n",
        "\n",
        "n_estimators = 100, max_features = 7 and random_state = 42 \n",
        "\n",
        "\n",
        "---\n",
        "\n",
        "\n"
      ]
    },
    {
      "cell_type": "code",
      "metadata": {
        "colab": {
          "base_uri": "https://localhost:8080/"
        },
        "id": "TagawD02hKlF",
        "outputId": "8153e68e-cb71-4357-dddc-c779b3f0aa18"
      },
      "source": [
        "# Random Forest model\n",
        "# Enter your code here\n",
        "model_rf = RandomForestClassifier(n_estimators=100, max_features=7, random_state=42)\n",
        "model_rf.fit(X_train, y_train)\n",
        "predict_rf = model_rf.predict(X_test)\n",
        "acc_rf = accuracy_score(y_test, predict_rf)\n",
        "\n",
        "print(' Accuracy = ', acc_rf)"
      ],
      "execution_count": null,
      "outputs": [
        {
          "output_type": "stream",
          "text": [
            " Accuracy =  0.9523809523809523\n"
          ],
          "name": "stdout"
        }
      ]
    },
    {
      "cell_type": "markdown",
      "metadata": {
        "id": "48iH9eV8xkbE"
      },
      "source": [
        "####  b) Calculate the top 3 important features for the above **RandomForest** model and print them (3 marks)"
      ]
    },
    {
      "cell_type": "code",
      "metadata": {
        "id": "M469DqsQxlFN",
        "colab": {
          "base_uri": "https://localhost:8080/"
        },
        "outputId": "f3c87a8e-ecae-4908-d0d3-18e23ec04be0"
      },
      "source": [
        "# Top 3 features for RandomForest\n",
        "feature_importances = model_rf.feature_importances_\n",
        "features = X_train.columns\n",
        "df = pd.DataFrame({'features': features, 'importance': feature_importances})\n",
        "print(df.sort_values('importance', ascending=False)[0:3])\n"
      ],
      "execution_count": null,
      "outputs": [
        {
          "output_type": "stream",
          "text": [
            "                   features  importance\n",
            "1  Uniformity of Cell Size     0.503253\n",
            "5           Bland Chromatin    0.229520\n",
            "2  Uniformity of Cell Shape    0.095969\n"
          ],
          "name": "stdout"
        }
      ]
    },
    {
      "cell_type": "markdown",
      "metadata": {
        "id": "rnrkSasYh6gF"
      },
      "source": [
        "### 5. Boosting: (7 marks)\n",
        "#### a) Build an AdaBoost model with training data and print the accuracy (4 marks)\n",
        "---\n",
        "\n",
        "Hyperparameters:\n",
        "\n",
        "Base estimator = DecisionTreeClassifier, max_depth = 4\n",
        "\n",
        "n_estimators = 200\n",
        "\n",
        "random_state = 42\n",
        "\n",
        "learning_rate = 0.05\n",
        "\n",
        "\n",
        "---\n",
        "\n",
        "\n",
        "\n",
        "\n",
        "\n",
        "\n",
        "\n"
      ]
    },
    {
      "cell_type": "code",
      "metadata": {
        "id": "DQIzaUjWUHv7",
        "colab": {
          "base_uri": "https://localhost:8080/"
        },
        "outputId": "d066600b-507b-445c-b0ab-e9f6b6fcb991"
      },
      "source": [
        "# AdaBoost Classification\n",
        "# Enter your code here\n",
        "base_est = DecisionTreeClassifier (max_depth =2)\n",
        "ada_boost = AdaBoostClassifier(base_est, n_estimators=200, random_state=42, learning_rate=.05)\n",
        "ada_boost.fit(X_train, y_train)\n",
        "predict_ada = ada_boost.predict(X_test)\n",
        "acc_ada = accuracy_score(y_test, predict_ada)\n",
        "print(' Accuracy = ', acc_ada)"
      ],
      "execution_count": null,
      "outputs": [
        {
          "output_type": "stream",
          "text": [
            " Accuracy =  0.9476190476190476\n"
          ],
          "name": "stdout"
        }
      ]
    },
    {
      "cell_type": "markdown",
      "metadata": {
        "id": "usBQDazfw2L1"
      },
      "source": [
        "#### b) Calculate the top 3 important features for the above **AdaBoost** model and print them (3 marks)"
      ]
    },
    {
      "cell_type": "code",
      "metadata": {
        "id": "jbEUjwQRw3rW",
        "colab": {
          "base_uri": "https://localhost:8080/"
        },
        "outputId": "4ce95bf2-c8bc-4443-c598-35c5bd4dd3d5"
      },
      "source": [
        "# Top 3 features for AdaBoost\n",
        "# Enter your code here\n",
        "feature_import = ada_boost.feature_importances_\n",
        "features = X_train.columns\n",
        "df = pd.DataFrame({'features': features, 'importance': feature_import})\n",
        "print(df.sort_values('importance', ascending=False)[0:3])\n"
      ],
      "execution_count": null,
      "outputs": [
        {
          "output_type": "stream",
          "text": [
            "                   features  importance\n",
            "5           Bland Chromatin    0.248264\n",
            "3         Marginal Adhesion    0.158000\n",
            "1  Uniformity of Cell Size     0.144638\n"
          ],
          "name": "stdout"
        }
      ]
    },
    {
      "cell_type": "markdown",
      "metadata": {
        "id": "zMpdvP7ZjAOt"
      },
      "source": [
        "### 6. Voting : Using a voting classifier, build an ensemble of RandomForestClassifier, DecisionTreeClassifier, Support Vector Machine and Logistic Regression. (7 marks)\n",
        "\n",
        "\n",
        "---\n",
        "\n",
        "\n",
        "Use max_depth = 4, n_estimators = 200, voting = soft"
      ]
    },
    {
      "cell_type": "code",
      "metadata": {
        "id": "3M3ZIcrqUKjK",
        "colab": {
          "base_uri": "https://localhost:8080/"
        },
        "outputId": "50953ea6-675e-47ef-ea53-6dfdc6b4c8be"
      },
      "source": [
        "# Voting Ensemble for Classification\n",
        "# Enter your code here\n",
        "rfClf = RandomForestClassifier(n_estimators=200) \n",
        "dtClf = DecisionTreeClassifier(max_depth =4)\n",
        "svmClf = SVC(probability=True) \n",
        "logClf = LogisticRegression()\n",
        "voter = VotingClassifier(estimators = [('rf',rfClf), ('dt',dtClf), ('svm',svmClf), ('log', logClf)], voting='soft')\n",
        "voter.fit(X_train, y_train)\n",
        "voter_pred = voter.predict(X_test)\n",
        "\n",
        "print('Accuracy score', accuracy_score(y_test, voter_pred))"
      ],
      "execution_count": null,
      "outputs": [
        {
          "output_type": "stream",
          "text": [
            "Accuracy score 0.9619047619047619\n"
          ],
          "name": "stdout"
        }
      ]
    },
    {
      "cell_type": "markdown",
      "metadata": {
        "id": "Wj2CVbBYVTun"
      },
      "source": [
        "### 7. Mention the best model among the above 4 models and its accuracy (1 mark)"
      ]
    },
    {
      "cell_type": "code",
      "metadata": {
        "id": "gj09m4z_lXNB"
      },
      "source": [
        "# Write your answer here\n",
        "# The best model is the voting classifier and it has an accuracy of 96.19%\n"
      ],
      "execution_count": null,
      "outputs": []
    }
  ]
}