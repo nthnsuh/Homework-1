{
  "nbformat": 4,
  "nbformat_minor": 0,
  "metadata": {
    "colab": {
      "name": "HW2_Suh_Nathan.ipynb",
      "provenance": [],
      "collapsed_sections": [],
      "include_colab_link": true
    },
    "kernelspec": {
      "name": "python3",
      "display_name": "Python 3"
    }
  },
  "cells": [
    {
      "cell_type": "markdown",
      "metadata": {
        "id": "view-in-github",
        "colab_type": "text"
      },
      "source": [
        "<a href=\"https://colab.research.google.com/github/nthnsuh/Homework-1/blob/main/HW2_Suh_Nathan.ipynb\" target=\"_parent\"><img src=\"https://colab.research.google.com/assets/colab-badge.svg\" alt=\"Open In Colab\"/></a>"
      ]
    },
    {
      "cell_type": "markdown",
      "metadata": {
        "id": "bNsIruOzI4iF"
      },
      "source": [
        "## **Homework 2**\n",
        "\n",
        "### Create a copy of the notebook to start answering the questions. Name your notebook in the format HW2_lastname_firstname.ipynb to facilitate the grading process. \n",
        "\n",
        "### Answer all the questions, test your code to ensure there are no errors and the results are as expected. Once you have answered all the questions, save the final copy, then go to File-> click on Download.ipynb. Once the local copy has been downloaded, submit your file on Blackboard under the corresponding assignment section. Also provide us a link to your notebook during submission. \n",
        "\n",
        "### **The due date of this homework is 02/12/2021 (Friday).**\n",
        "\n",
        "### Please ensure you follow all the steps mentioned in the homework.\n",
        "\n",
        "### All the questions have a sample input and output to help you understand the question.\n",
        "\n",
        "### You can submit your solutions any number of times until the deadline.\n"
      ]
    },
    {
      "cell_type": "markdown",
      "metadata": {
        "id": "U3Yz3s2uio1F"
      },
      "source": [
        "**Q1. Lets consider your data is like the below cell:**\n",
        "\n",
        "**Q1-1**: Write a program that create a dataframe from the data.\n",
        "\n",
        "**Q1-2:** Select people that are psychologist or teacher and their number of cars is greater than their family size.\n",
        "\n",
        "**Q1-3:** Select people who have at most 2 family members and at least 1 car.\n",
        "\n",
        "**Q1-4:** Write a code that get number of unique jobs in this dataset.\n",
        "\n",
        "\n",
        "\n"
      ]
    },
    {
      "cell_type": "code",
      "metadata": {
        "id": "yR8lcOtcjxXD"
      },
      "source": [
        "data = {\"name\": [\"Joseph\", \"Jacob\", \"Sam\", \"Jesee\", \"Ryan\", \"Lisa\", \"Lee\"],\n",
        "        \"job\": [\"teacher\", \"psychologist\", \"data scientist\", \"software developer\", \"psychologist\", \"psychologist\", \"teacher\"],\n",
        "        \"family_size\": [3, 2, 1, 4, 2, 3, 2],\n",
        "        \"num_cars\": [3, 1, 1, 2, 2, 4, 1]}"
      ],
      "execution_count": null,
      "outputs": []
    },
    {
      "cell_type": "code",
      "metadata": {
        "id": "Youi5qMaP34p"
      },
      "source": [
        "# Type your solution here\n",
        "# Q1-1\n",
        "import pandas as pd\n",
        "people = pd.DataFrame(data)"
      ],
      "execution_count": null,
      "outputs": []
    },
    {
      "cell_type": "code",
      "metadata": {
        "colab": {
          "base_uri": "https://localhost:8080/",
          "height": 80
        },
        "id": "OLVaSxjPB6to",
        "outputId": "1041bb9c-2103-4c6d-aa5f-937870af11a5"
      },
      "source": [
        "# Q1-2\n",
        "people[((people[\"job\"] == \"psychologist\") | (people[\"job\"] == \"teacher\")) & (people[\"num_cars\"] > people[\"family_size\"])]\n"
      ],
      "execution_count": null,
      "outputs": [
        {
          "output_type": "execute_result",
          "data": {
            "text/html": [
              "<div>\n",
              "<style scoped>\n",
              "    .dataframe tbody tr th:only-of-type {\n",
              "        vertical-align: middle;\n",
              "    }\n",
              "\n",
              "    .dataframe tbody tr th {\n",
              "        vertical-align: top;\n",
              "    }\n",
              "\n",
              "    .dataframe thead th {\n",
              "        text-align: right;\n",
              "    }\n",
              "</style>\n",
              "<table border=\"1\" class=\"dataframe\">\n",
              "  <thead>\n",
              "    <tr style=\"text-align: right;\">\n",
              "      <th></th>\n",
              "      <th>name</th>\n",
              "      <th>job</th>\n",
              "      <th>family_size</th>\n",
              "      <th>num_cars</th>\n",
              "    </tr>\n",
              "  </thead>\n",
              "  <tbody>\n",
              "    <tr>\n",
              "      <th>5</th>\n",
              "      <td>Lisa</td>\n",
              "      <td>psychologist</td>\n",
              "      <td>3</td>\n",
              "      <td>4</td>\n",
              "    </tr>\n",
              "  </tbody>\n",
              "</table>\n",
              "</div>"
            ],
            "text/plain": [
              "   name           job  family_size  num_cars\n",
              "5  Lisa  psychologist            3         4"
            ]
          },
          "metadata": {
            "tags": []
          },
          "execution_count": 44
        }
      ]
    },
    {
      "cell_type": "code",
      "metadata": {
        "colab": {
          "base_uri": "https://localhost:8080/",
          "height": 173
        },
        "id": "AzJ8E7ueB7nn",
        "outputId": "6bb54eb7-988f-45db-9a91-f65f3dd2f1c2"
      },
      "source": [
        "# Q1-3\n",
        "people[(people[\"num_cars\"] >= 1) & (people[\"family_size\"] <= 2)]"
      ],
      "execution_count": null,
      "outputs": [
        {
          "output_type": "execute_result",
          "data": {
            "text/html": [
              "<div>\n",
              "<style scoped>\n",
              "    .dataframe tbody tr th:only-of-type {\n",
              "        vertical-align: middle;\n",
              "    }\n",
              "\n",
              "    .dataframe tbody tr th {\n",
              "        vertical-align: top;\n",
              "    }\n",
              "\n",
              "    .dataframe thead th {\n",
              "        text-align: right;\n",
              "    }\n",
              "</style>\n",
              "<table border=\"1\" class=\"dataframe\">\n",
              "  <thead>\n",
              "    <tr style=\"text-align: right;\">\n",
              "      <th></th>\n",
              "      <th>name</th>\n",
              "      <th>job</th>\n",
              "      <th>family_size</th>\n",
              "      <th>num_cars</th>\n",
              "    </tr>\n",
              "  </thead>\n",
              "  <tbody>\n",
              "    <tr>\n",
              "      <th>1</th>\n",
              "      <td>Jacob</td>\n",
              "      <td>psychologist</td>\n",
              "      <td>2</td>\n",
              "      <td>1</td>\n",
              "    </tr>\n",
              "    <tr>\n",
              "      <th>2</th>\n",
              "      <td>Sam</td>\n",
              "      <td>data scientist</td>\n",
              "      <td>1</td>\n",
              "      <td>1</td>\n",
              "    </tr>\n",
              "    <tr>\n",
              "      <th>4</th>\n",
              "      <td>Ryan</td>\n",
              "      <td>psychologist</td>\n",
              "      <td>2</td>\n",
              "      <td>2</td>\n",
              "    </tr>\n",
              "    <tr>\n",
              "      <th>6</th>\n",
              "      <td>Lee</td>\n",
              "      <td>teacher</td>\n",
              "      <td>2</td>\n",
              "      <td>1</td>\n",
              "    </tr>\n",
              "  </tbody>\n",
              "</table>\n",
              "</div>"
            ],
            "text/plain": [
              "    name             job  family_size  num_cars\n",
              "1  Jacob    psychologist            2         1\n",
              "2    Sam  data scientist            1         1\n",
              "4   Ryan    psychologist            2         2\n",
              "6    Lee         teacher            2         1"
            ]
          },
          "metadata": {
            "tags": []
          },
          "execution_count": 45
        }
      ]
    },
    {
      "cell_type": "code",
      "metadata": {
        "colab": {
          "base_uri": "https://localhost:8080/"
        },
        "id": "TKZNPFquB8CY",
        "outputId": "dc3bca86-eaf6-4ce8-e96a-d5cf13a33abc"
      },
      "source": [
        "# Q1-4\n",
        "print(len(pd.unique(people[\"job\"])))"
      ],
      "execution_count": null,
      "outputs": [
        {
          "output_type": "stream",
          "text": [
            "4\n"
          ],
          "name": "stdout"
        }
      ]
    },
    {
      "cell_type": "markdown",
      "metadata": {
        "id": "Ow6nG8k4l91X"
      },
      "source": [
        "**Q2. Lets consider you have two series like the below cell. Compute the mean of weights of each fruit.**"
      ]
    },
    {
      "cell_type": "code",
      "metadata": {
        "id": "u-X_DoOzVLLB"
      },
      "source": [
        "import numpy as np\n",
        "import pandas as pd\n",
        "fruit = pd.Series(np.random.choice(['apple', 'banana', 'carrot'], 10))\n",
        "weights = pd.Series(np.linspace(1, 10, 10))"
      ],
      "execution_count": null,
      "outputs": []
    },
    {
      "cell_type": "code",
      "metadata": {
        "id": "S419nzYnpU__",
        "colab": {
          "base_uri": "https://localhost:8080/"
        },
        "outputId": "de79f9ef-2d42-4f83-d6e8-972c8a08d738"
      },
      "source": [
        "# Type your solution here\n",
        "print(weights.groupby(fruit).mean())"
      ],
      "execution_count": null,
      "outputs": [
        {
          "output_type": "stream",
          "text": [
            "apple     6.5\n",
            "banana    4.0\n",
            "carrot    4.0\n",
            "dtype: float64\n"
          ],
          "name": "stdout"
        }
      ]
    },
    {
      "cell_type": "markdown",
      "metadata": {
        "id": "g4lKaPIhtVrt"
      },
      "source": [
        "**Q3. Consider the below course_name array:**\n",
        "\n",
        "**Q3-1**: Write a NumPy program to get the indices of the sorted elements of **course_name** array.\n",
        "\n",
        "**Q3-2:** Write numpy code to check whether each element of **course_name** array starts with \"P\".\n"
      ]
    },
    {
      "cell_type": "code",
      "metadata": {
        "id": "RUP_jp2KtVrx"
      },
      "source": [
        "import numpy as np\n",
        "course_name = np.array(['Python', 'JS', 'examples', 'PHP', 'html'])"
      ],
      "execution_count": null,
      "outputs": []
    },
    {
      "cell_type": "code",
      "metadata": {
        "id": "U1i27POxv-o_",
        "colab": {
          "base_uri": "https://localhost:8080/"
        },
        "outputId": "1e11686d-39f5-48f1-bde9-314e12f204d0"
      },
      "source": [
        "# Type your solution here\n",
        "# Q3-1\n",
        "indices = np.argsort(course_name)\n",
        "print(indices)\n",
        "\n",
        "# Q3-2\n",
        "p = np.char.startswith(course_name, \"P\")\n",
        "print(p)"
      ],
      "execution_count": null,
      "outputs": [
        {
          "output_type": "stream",
          "text": [
            "[1 3 0 2 4]\n",
            "[ True False False  True False]\n"
          ],
          "name": "stdout"
        }
      ]
    },
    {
      "cell_type": "markdown",
      "metadata": {
        "id": "sUFItNFOxwkz"
      },
      "source": [
        "**Q4. Consider the below student_id array:**\n",
        "\n",
        "**Q4-1:** Reverse the **student_id** array. Print both original and reversed array.\n",
        "\n",
        "**Q4-2:** Get the 3-largest values of **student_id** array."
      ]
    },
    {
      "cell_type": "code",
      "metadata": {
        "id": "Rl5qzEjFv0nw"
      },
      "source": [
        "import numpy as np\n",
        "student_id = np.array([1023, 5202, 6230, 1671, 1682, 5241, 4532])"
      ],
      "execution_count": null,
      "outputs": []
    },
    {
      "cell_type": "code",
      "metadata": {
        "id": "EetvHGrUxMCC",
        "colab": {
          "base_uri": "https://localhost:8080/"
        },
        "outputId": "5c84e46d-2935-4ee3-b50a-066aa2f73591"
      },
      "source": [
        "# Type your solution here\n",
        "# Q4-1\n",
        "student_id_rev = student_id[::-1]\n",
        "print(student_id)\n",
        "print(student_id_rev)\n",
        "\n",
        "# Q4-2\n",
        "orders = np.argsort(student_id)\n",
        "sortedid = student_id[orders]\n",
        "print(sortedid[[4, 5, 6]])\n"
      ],
      "execution_count": null,
      "outputs": [
        {
          "output_type": "stream",
          "text": [
            "[1023 5202 6230 1671 1682 5241 4532]\n",
            "[4532 5241 1682 1671 6230 5202 1023]\n",
            "[0 3 4 6 1 5 2]\n",
            "[5202 5241 6230]\n"
          ],
          "name": "stdout"
        }
      ]
    },
    {
      "cell_type": "markdown",
      "metadata": {
        "id": "uKRyDVuW6B19"
      },
      "source": [
        "# **Q5: Write a numpy program to print sum of all the multiples of 3 or 5 below 100**"
      ]
    },
    {
      "cell_type": "code",
      "metadata": {
        "id": "ZIixq1gz6OK3",
        "colab": {
          "base_uri": "https://localhost:8080/"
        },
        "outputId": "030fb4f0-cbe5-4090-fe72-982d7bd2cb6d"
      },
      "source": [
        "# Type your solution here\n",
        "array = np.arange(100)\n",
        "tot = 0\n",
        "for a in array:\n",
        "  if a%3 == 0 or a%5 == 0:\n",
        "    tot += a\n",
        "print(tot)\n",
        "# Hint: you can use arange to start off"
      ],
      "execution_count": null,
      "outputs": [
        {
          "output_type": "stream",
          "text": [
            "2318\n"
          ],
          "name": "stdout"
        }
      ]
    },
    {
      "cell_type": "markdown",
      "metadata": {
        "id": "2CWJOsP24c34"
      },
      "source": [
        "**Q6. Consider the below array.**\n",
        "\n",
        "Q6.1. Write a code to swap column 1 with column 2.\n",
        "\n",
        "Q6.2. Write a code to swap row 0 with row 1."
      ]
    },
    {
      "cell_type": "code",
      "metadata": {
        "id": "3OG6X5Eg5KSM",
        "colab": {
          "base_uri": "https://localhost:8080/"
        },
        "outputId": "d8637473-9ad1-4c44-ed55-94990cd123f8"
      },
      "source": [
        "import numpy as np\n",
        "\n",
        "arr = np.arange(12).reshape(3,4)\n",
        "print(arr)"
      ],
      "execution_count": null,
      "outputs": [
        {
          "output_type": "stream",
          "text": [
            "[[ 0  1  2  3]\n",
            " [ 4  5  6  7]\n",
            " [ 8  9 10 11]]\n"
          ],
          "name": "stdout"
        }
      ]
    },
    {
      "cell_type": "code",
      "metadata": {
        "id": "Q-Q91DpO5YYW",
        "colab": {
          "base_uri": "https://localhost:8080/"
        },
        "outputId": "e8430f0c-6a97-4d57-cb5e-a1fd99688a6a"
      },
      "source": [
        "# Type your solution here\n",
        "# Q6-1\n",
        "arr[:, [2,1]] = arr[:,[1,2]]\n",
        "print(arr)\n",
        "\n",
        "# Q6-2\n",
        "arr[[1,0],:] = arr[[0,1],:]\n",
        "print(arr)"
      ],
      "execution_count": null,
      "outputs": [
        {
          "output_type": "stream",
          "text": [
            "[[ 0  2  1  3]\n",
            " [ 4  6  5  7]\n",
            " [ 8 10  9 11]]\n",
            "[[ 4  6  5  7]\n",
            " [ 0  2  1  3]\n",
            " [ 8 10  9 11]]\n"
          ],
          "name": "stdout"
        }
      ]
    }
  ]
}